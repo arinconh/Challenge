{
 "cells": [
  {
   "cell_type": "markdown",
   "id": "029dece0",
   "metadata": {},
   "source": [
    "# Google API Challenge with Python \n",
    "\n",
    "\n",
    "\n",
    "1. Setup a test gmail account and enable the APIs for it.\n",
    "2. Send e-mails.\n",
    "3. Search for specific messages in the mailbox.\n",
    "\n",
    "\n",
    "\n",
    "**Prerequisites**\n",
    "1. Python 2.6 or greater.\n",
    "2. The pip package management tool.\n"
   ]
  },
  {
   "cell_type": "markdown",
   "id": "9171f0d2",
   "metadata": {},
   "source": [
    "## 1- Setup a test gmail account and enable the API and other \n",
    "\n",
    "We first create a new gmail account: In our case is haensel.challenge@gmail.com and the password is passwordChallengeAPI\n",
    "\n",
    "\n",
    "\n",
    "### 1.1 Create a Google Cloud project \n",
    "\n",
    "At the top-left, click Menu > IAM & Admin > Create a Project\n",
    "\n",
    "Open the [Google Cloud console](\n",
    "https://console.cloud.google.com/)\n",
    "\n",
    "<img src=\"create_project_cloud.png\" width=\"400\"/>\n",
    "\n",
    "Add the Project name and Location.\n",
    "\n",
    "\n",
    "### 1.2 OAuth consent screen  \n",
    "\n",
    "\n",
    "At the top-left, click Menu > APIs & Services > OAuth consent screen \n",
    "\n",
    "Set User Type as External.\n",
    "\n",
    "<img src=\"Oauth1_cloud.png\" width=\"400\"/>\n",
    "\n",
    "Set the App information, App domain and the developer e-mail, click Save and Continue.\n",
    "\n",
    "<img src=\"Oauth_cloud.png\" width=\"400\"/>\n",
    "\n",
    "\n",
    "\n",
    "Skip Add Scopes, since we could add them manually in our script, click Save and Continue.\n",
    "\n",
    "<img src=\"scope_cloud.png\" width=\"400\"/>\n",
    "\n",
    "\n",
    "In the Test users section click Add users. Enter your e-mail address and any other authorized test users, click Save and Continue.\n",
    "\n",
    "<img src=\"testusers_cloud.png\" width=\"400\"/>\n",
    "\n",
    "\n",
    "### 1.3  Enable the GMAIL API\n",
    "\n",
    "At the top-left, click Menu > APIs & Services > Library\n",
    "\n",
    "<img src=\"library_cloud.png\" width=\"400\"/>\n",
    "\n",
    "Search for GMAIL API and click on ENABLE.\n",
    "\n",
    "<img src=\"enable_cloud.png\" width=\"400\"/>\n",
    "\n",
    "### 1.4 Create credentials \n",
    "\n",
    "At the top-left, click Menu > APIs & Services > Credentials  > + CREATE CREDENTIALS  > Create OAuth client ID\n",
    "\n",
    "Set the application type as Desktop.\n",
    "\n",
    "Set the name of your OAuth 2.0 client.\n",
    "\n",
    "Download the credentials: \n",
    "\n",
    "<img src=\"get_credentials_cloud.png\" width=\"500\"/>\n",
    "\n",
    "\n",
    "<img src=\"download_cloud.png\" width=\"400\"/>\n",
    "\n",
    "**IMPORTANT STEP**: You would get a .json file, rename it as credentials.json and save it your working directory.\n",
    "\n",
    "### 1.5 Install the Google API library\n"
   ]
  },
  {
   "cell_type": "code",
   "execution_count": 1,
   "id": "453a7117",
   "metadata": {
    "scrolled": true
   },
   "outputs": [
    {
     "name": "stdout",
     "output_type": "stream",
     "text": [
      "Requirement already satisfied: google-api-python-client in /Library/Frameworks/Python.framework/Versions/3.10/lib/python3.10/site-packages (2.60.0)\n",
      "Requirement already satisfied: google-auth-httplib2 in /Library/Frameworks/Python.framework/Versions/3.10/lib/python3.10/site-packages (0.1.0)\n",
      "Requirement already satisfied: google-auth-oauthlib in /Library/Frameworks/Python.framework/Versions/3.10/lib/python3.10/site-packages (0.5.2)\n",
      "Requirement already satisfied: google-auth<3.0.0dev,>=1.19.0 in /Library/Frameworks/Python.framework/Versions/3.10/lib/python3.10/site-packages (from google-api-python-client) (2.11.0)\n",
      "Requirement already satisfied: google-api-core!=2.0.*,!=2.1.*,!=2.2.*,!=2.3.0,<3.0.0dev,>=1.31.5 in /Library/Frameworks/Python.framework/Versions/3.10/lib/python3.10/site-packages (from google-api-python-client) (2.8.2)\n",
      "Requirement already satisfied: httplib2<1dev,>=0.15.0 in /Library/Frameworks/Python.framework/Versions/3.10/lib/python3.10/site-packages (from google-api-python-client) (0.20.4)\n",
      "Requirement already satisfied: uritemplate<5,>=3.0.1 in /Library/Frameworks/Python.framework/Versions/3.10/lib/python3.10/site-packages (from google-api-python-client) (4.1.1)\n",
      "Requirement already satisfied: six in /Library/Frameworks/Python.framework/Versions/3.10/lib/python3.10/site-packages (from google-auth-httplib2) (1.16.0)\n",
      "Requirement already satisfied: requests-oauthlib>=0.7.0 in /Library/Frameworks/Python.framework/Versions/3.10/lib/python3.10/site-packages (from google-auth-oauthlib) (1.3.1)\n",
      "Requirement already satisfied: requests<3.0.0dev,>=2.18.0 in /Library/Frameworks/Python.framework/Versions/3.10/lib/python3.10/site-packages (from google-api-core!=2.0.*,!=2.1.*,!=2.2.*,!=2.3.0,<3.0.0dev,>=1.31.5->google-api-python-client) (2.28.1)\n",
      "Requirement already satisfied: googleapis-common-protos<2.0dev,>=1.56.2 in /Library/Frameworks/Python.framework/Versions/3.10/lib/python3.10/site-packages (from google-api-core!=2.0.*,!=2.1.*,!=2.2.*,!=2.3.0,<3.0.0dev,>=1.31.5->google-api-python-client) (1.56.4)\n",
      "Requirement already satisfied: protobuf<5.0.0dev,>=3.15.0 in /Library/Frameworks/Python.framework/Versions/3.10/lib/python3.10/site-packages (from google-api-core!=2.0.*,!=2.1.*,!=2.2.*,!=2.3.0,<3.0.0dev,>=1.31.5->google-api-python-client) (4.21.5)\n",
      "Requirement already satisfied: rsa<5,>=3.1.4 in /Library/Frameworks/Python.framework/Versions/3.10/lib/python3.10/site-packages (from google-auth<3.0.0dev,>=1.19.0->google-api-python-client) (4.9)\n",
      "Requirement already satisfied: cachetools<6.0,>=2.0.0 in /Library/Frameworks/Python.framework/Versions/3.10/lib/python3.10/site-packages (from google-auth<3.0.0dev,>=1.19.0->google-api-python-client) (5.2.0)\n",
      "Requirement already satisfied: pyasn1-modules>=0.2.1 in /Library/Frameworks/Python.framework/Versions/3.10/lib/python3.10/site-packages (from google-auth<3.0.0dev,>=1.19.0->google-api-python-client) (0.2.8)\n",
      "Requirement already satisfied: pyparsing!=3.0.0,!=3.0.1,!=3.0.2,!=3.0.3,<4,>=2.4.2 in /Library/Frameworks/Python.framework/Versions/3.10/lib/python3.10/site-packages (from httplib2<1dev,>=0.15.0->google-api-python-client) (3.0.9)\n",
      "Requirement already satisfied: oauthlib>=3.0.0 in /Library/Frameworks/Python.framework/Versions/3.10/lib/python3.10/site-packages (from requests-oauthlib>=0.7.0->google-auth-oauthlib) (3.2.0)\n",
      "Requirement already satisfied: pyasn1<0.5.0,>=0.4.6 in /Library/Frameworks/Python.framework/Versions/3.10/lib/python3.10/site-packages (from pyasn1-modules>=0.2.1->google-auth<3.0.0dev,>=1.19.0->google-api-python-client) (0.4.8)\n",
      "Requirement already satisfied: urllib3<1.27,>=1.21.1 in /Library/Frameworks/Python.framework/Versions/3.10/lib/python3.10/site-packages (from requests<3.0.0dev,>=2.18.0->google-api-core!=2.0.*,!=2.1.*,!=2.2.*,!=2.3.0,<3.0.0dev,>=1.31.5->google-api-python-client) (1.26.9)\n",
      "Requirement already satisfied: idna<4,>=2.5 in /Library/Frameworks/Python.framework/Versions/3.10/lib/python3.10/site-packages (from requests<3.0.0dev,>=2.18.0->google-api-core!=2.0.*,!=2.1.*,!=2.2.*,!=2.3.0,<3.0.0dev,>=1.31.5->google-api-python-client) (3.3)\n",
      "Requirement already satisfied: certifi>=2017.4.17 in /Library/Frameworks/Python.framework/Versions/3.10/lib/python3.10/site-packages (from requests<3.0.0dev,>=2.18.0->google-api-core!=2.0.*,!=2.1.*,!=2.2.*,!=2.3.0,<3.0.0dev,>=1.31.5->google-api-python-client) (2022.6.15)\n",
      "Requirement already satisfied: charset-normalizer<3,>=2 in /Library/Frameworks/Python.framework/Versions/3.10/lib/python3.10/site-packages (from requests<3.0.0dev,>=2.18.0->google-api-core!=2.0.*,!=2.1.*,!=2.2.*,!=2.3.0,<3.0.0dev,>=1.31.5->google-api-python-client) (2.1.0)\n",
      "Note: you may need to restart the kernel to use updated packages.\n"
     ]
    }
   ],
   "source": [
    "pip install --upgrade google-api-python-client google-auth-httplib2 google-auth-oauthlib"
   ]
  },
  {
   "cell_type": "markdown",
   "id": "bb6732b3",
   "metadata": {},
   "source": [
    "### 1.6 Authentification  \n",
    "\n",
    "\n",
    "\n",
    "We first import the necessary libraries, we follow parts of the quickstart guide to make authorization easier (https://github.com/googleworkspace/python-samples/blob/main/gmail/quickstart/quickstart.py)\n",
    "\n",
    "We import [pickle](https://pypi.org/project/pickle5/) to store the authentication credentials.\n",
    "\n",
    "We also import [mimetypes](https://pypi.org/project/mime/). A MIME is an identifier for a particular type of format of information (Read more here:https://docs.python.org/3/library/mimetypes.html) \n",
    "\n",
    "Select one of the Scopes (Scopes are different levels of permission that an app could request from an user).\n",
    "https://developers.google.com/gmail/api/auth/scopes\n",
    "\n",
    "\n",
    "\n",
    "\n"
   ]
  },
  {
   "cell_type": "code",
   "execution_count": 2,
   "id": "23872ab3",
   "metadata": {},
   "outputs": [
    {
     "name": "stdout",
     "output_type": "stream",
     "text": [
      "Requirement already satisfied: pickle5 in /Library/Frameworks/Python.framework/Versions/3.10/lib/python3.10/site-packages (0.0.11)\n",
      "Note: you may need to restart the kernel to use updated packages.\n"
     ]
    }
   ],
   "source": [
    "pip install pickle5"
   ]
  },
  {
   "cell_type": "code",
   "execution_count": 3,
   "id": "c7e8c6e7",
   "metadata": {},
   "outputs": [
    {
     "name": "stdout",
     "output_type": "stream",
     "text": [
      "Requirement already satisfied: mime in /Library/Frameworks/Python.framework/Versions/3.10/lib/python3.10/site-packages (0.1.0)\n",
      "Requirement already satisfied: future in /Library/Frameworks/Python.framework/Versions/3.10/lib/python3.10/site-packages (from mime) (0.18.2)\n",
      "Note: you may need to restart the kernel to use updated packages.\n"
     ]
    }
   ],
   "source": [
    "pip install mime"
   ]
  },
  {
   "cell_type": "code",
   "execution_count": 4,
   "id": "e5926425",
   "metadata": {},
   "outputs": [],
   "source": [
    "import os\n",
    "import pickle\n",
    "from googleapiclient.discovery import build\n",
    "from google.oauth2.credentials import Credentials\n",
    "from google.auth.transport.requests import Request\n",
    "from googleapiclient.errors import HttpError\n",
    "from google_auth_oauthlib.flow import Flow, InstalledAppFlow\n",
    "from email.mime.image import MIMEImage\n",
    "from email.mime.text import MIMEText\n",
    "from email.mime.multipart import MIMEMultipart\n",
    "from email.mime.audio import MIMEAudio\n",
    "from email.mime.base import MIMEBase\n",
    "from apiclient import errors\n",
    "import mimetypes\n",
    "import base64\n",
    "import email\n",
    "\n",
    "\n",
    "# If modifying these scopes, delete the file token.json.\n",
    "SCOPES=['https://mail.google.com/']"
   ]
  },
  {
   "cell_type": "markdown",
   "id": "c6fc3fe7",
   "metadata": {},
   "source": [
    "\n"
   ]
  },
  {
   "cell_type": "code",
   "execution_count": 5,
   "id": "fa2f9159",
   "metadata": {},
   "outputs": [],
   "source": [
    "def authentication():\n",
    "    \"\"\"\n",
    "    \"\"\"\n",
    "    creds = None\n",
    "    # the file token.pickle stores the user's access and refresh tokens, and is\n",
    "    # created automatically when the authorization flow completes for the first time\n",
    "    if os.path.exists(\"token.pickle\"):\n",
    "        with open(\"token.pickle\", \"rb\") as token:\n",
    "            creds = pickle.load(token)\n",
    "    # if there are no (valid) credentials availablle, let the user log in.\n",
    "    if not creds or not creds.valid:\n",
    "        if creds and creds.expired and creds.refresh_token:\n",
    "            creds.refresh(Request())\n",
    "        else:\n",
    "            flow = InstalledAppFlow.from_client_secrets_file('credentials.json', SCOPES)\n",
    "            creds = flow.run_local_server(port=0)\n",
    "        # save the credentials for the next run\n",
    "        with open(\"token.pickle\", \"wb\") as token:\n",
    "            pickle.dump(creds, token)\n",
    "    return build('gmail', 'v1', credentials=creds)\n",
    "\n",
    "# get the Gmail API service\n",
    "\n",
    "service = authentication()"
   ]
  },
  {
   "cell_type": "markdown",
   "id": "1265157e",
   "metadata": {},
   "source": [
    "### 1.7 Authorize the application \n",
    "\n",
    "Choose your account and press continue \n",
    "<img src=\"authorization_1.png\" width=\"400\"/>\n"
   ]
  },
  {
   "cell_type": "markdown",
   "id": "4bb6dc43",
   "metadata": {},
   "source": [
    "## 2- Send e-mails from GMAIL API\n",
    "First note that the single MIME message part has the following JSON representation:\n",
    "\n",
    "\n",
    "\n",
    "\n",
    "### 2.1 Create a message with attachment \n",
    "We follow the guidelines of https://developers.google.com/gmail/api/guides/sending\n",
    "\n",
    "**STEPS**\n",
    "We are using two functions:\n",
    "1. Create message with attachment \n",
    "2. Send messages \n",
    "\n"
   ]
  },
  {
   "cell_type": "code",
   "execution_count": 6,
   "id": "de804ee1",
   "metadata": {},
   "outputs": [],
   "source": [
    "def create_message_with_attachment(sender,to,subject,message_text,file):\n",
    "    \"\"\"\n",
    "    Creates a message with attachement for an e-mail\n",
    "    \n",
    "    \n",
    "    sender: string with the e-mail address of the sender.\n",
    "    to: string with the e-mail address of the receiver.\n",
    "    subject: subject of the e-mail message.\n",
    "    message_text: the text of the e-mail message.\n",
    "    \n",
    "    \n",
    "    Returns the full e-mail message data with body content in the raw field as a base64url encoded string\n",
    "    \"\"\"\n",
    "    \n",
    "    #headers\n",
    "    message = MIMEMultipart()\n",
    "    message['to'] = to\n",
    "    message['from'] = sender\n",
    "    message['subject'] = subject\n",
    "\n",
    "    msg = MIMEText(message_text)\n",
    "    message.attach(msg)\n",
    "\n",
    "    #guessing the MIME type of the file\n",
    "    (content_type, encoding) = mimetypes.guess_type(file)\n",
    "    \n",
    "    #creates a MIME type for the file\n",
    "    if content_type is None or encoding is not None:\n",
    "        content_type = 'application/octet-stream'\n",
    "\n",
    "    (main_type, sub_type) = content_type.split('/', 1)\n",
    "\n",
    "    if main_type == 'text':\n",
    "        with open(file, 'rb') as f:\n",
    "            msg = MIMEText(f.read().decode('utf-8'), _subtype=sub_type)\n",
    "\n",
    "    elif main_type == 'image':\n",
    "        with open(file, 'rb') as f:\n",
    "            msg = MIMEImage(f.read(), _subtype=sub_type)\n",
    "        \n",
    "    elif main_type == 'audio':\n",
    "        with open(file, 'rb') as f:\n",
    "            msg = MIMEAudio(f.read(), _subtype=sub_type)\n",
    "        \n",
    "    else:\n",
    "        with open(file, 'rb') as f:\n",
    "            msg = MIMEBase(main_type, sub_type)\n",
    "            msg.set_payload(f.read())\n",
    "\n",
    "    filename = os.path.basename(file)\n",
    "    msg.add_header('Content-Disposition', 'attachment',\n",
    "                   filename=filename)\n",
    "   \n",
    "    #Give the message as a base64-encoded string.\n",
    "\n",
    "    raw_message = base64.urlsafe_b64encode(message.as_bytes()).decode()\n",
    "        \n",
    "    return {'raw': raw_message}"
   ]
  },
  {
   "cell_type": "markdown",
   "id": "16364f61",
   "metadata": {},
   "source": [
    "### 2.2 Send the message \n"
   ]
  },
  {
   "cell_type": "code",
   "execution_count": 7,
   "id": "6496406d",
   "metadata": {},
   "outputs": [],
   "source": [
    "def send_message(service, user_id, message):\n",
    "    \"\"\"Send an e-mail message\n",
    "    \n",
    "    user_id: string\n",
    "    message: A base64-encoded string.\n",
    "\n",
    "    Prints: the returned message id\n",
    "    Returns: message object and id \n",
    "\n",
    "    \"\"\"\n",
    "    try:\n",
    "        message = service.users().messages().send(userId=user_id,\n",
    "                body=message).execute()\n",
    "\n",
    "        print('Message Id: {}'.format(message['id']))\n",
    "\n",
    "        return message\n",
    "    except HttpError as error:\n",
    "        print(f'An error occurred: {error}')\n",
    "        return None"
   ]
  },
  {
   "cell_type": "markdown",
   "id": "2e32d544",
   "metadata": {},
   "source": [
    "### 2.3 Example \n",
    "\n",
    "You could also change below the recipient, the subject, the body and the attached file by changing to, subject, body and file respectively. "
   ]
  },
  {
   "cell_type": "code",
   "execution_count": 8,
   "id": "bb56c095",
   "metadata": {},
   "outputs": [
    {
     "name": "stdout",
     "output_type": "stream",
     "text": [
      "Message Id: 1831860a25e08c46\n"
     ]
    }
   ],
   "source": [
    "if __name__ == '__main__':\n",
    "    \n",
    "    #Load pre-authorized user credentials from the environment.\n",
    "    service=authentication()\n",
    "    \n",
    "    user_id='me'\n",
    "    sender='haensel.challenge@gmail.com'\n",
    "    to='alrinconh@gmail.com'\n",
    "    subject='How to pass the challenge?'\n",
    "    body='steb by step'\n",
    "    file='mensaje.txt'\n",
    "    msg=create_message_with_attachment(sender,to,subject, body, file)\n",
    "    send_message(service,user_id,msg)\n"
   ]
  },
  {
   "cell_type": "markdown",
   "id": "048600db",
   "metadata": {},
   "source": [
    "## 3-Search specific messages \n",
    "\n",
    "Task: Search for e-mails that satisfy a search_string given as in https://support.google.com/mail/answer/7190\n",
    "\n",
    "We follow https://developers.google.com/gmail/api/guides/filtering and https://developers.google.com/gmail/api/reference/rest/v1/users.messages/get\n",
    "\n",
    "We define a function to search and display part of the messages. We first get the id of the messages satisfying the search_string and then we obtain their sender, subject and a snippet from the content. \n",
    "\n",
    "To see some example of the outcome of service.users().messages().list(userId=user_id, q=search_string).execute() and \n",
    "service.users().messages().get(userId=user_id, id=msg_id).execute() would help us to understand our \n",
    "code. \n",
    "\n",
    "### Example 1\n",
    "\n",
    "For userID='me'\n",
    "\n",
    "search_string='message'\n",
    "   \n",
    "search_output=service.users().messages().list(userId=user_id, q=search_string).execute()\n",
    "\n",
    "search_output={'messages': [{'id': '182f8708b31304d3', 'threadId': '182f8708b31304d3'}],'resultSizeEstimate': 1}\n",
    "\n",
    "### Example 2\n",
    "\n",
    "Run the code below:"
   ]
  },
  {
   "cell_type": "code",
   "execution_count": 9,
   "id": "47bf2b0b",
   "metadata": {},
   "outputs": [
    {
     "data": {
      "text/plain": [
       "[{'name': 'Delivered-To', 'value': 'haensel.challenge@gmail.com'},\n",
       " {'name': 'Received',\n",
       "  'value': 'by 2002:a59:a381:0:b0:2de:ed6b:aeae with SMTP id l1csp2457883vqo;        Tue, 30 Aug 2022 06:36:54 -0700 (PDT)'},\n",
       " {'name': 'X-Received',\n",
       "  'value': 'by 2002:a0c:8d85:0:b0:497:8b1:d372 with SMTP id t5-20020a0c8d85000000b0049708b1d372mr15215612qvb.68.1661866611367;        Tue, 30 Aug 2022 06:36:51 -0700 (PDT)'},\n",
       " {'name': 'ARC-Seal',\n",
       "  'value': 'i=1; a=rsa-sha256; t=1661866610; cv=none;        d=google.com; s=arc-20160816;        b=HnQ+MXMs8aS1WaziIC42RE/K4J5Yms8nq114ikADwEf+6RHp8Wh6BqNL65xhpmnMGd         7jkX4Btlb4WYAgemMZ75jBWOyUNIJFHMRbA814CyZFZnjP9T3u9mXtJtsSV+j20r53mQ         BWOiDwRLwwQhyVe7DHYF4c6f5uZkIa+g5ZKvZgugRNXes/GtgbSctAgnzT2Gez9yP7e+         ZFIfNpo5zbr0RjlLEPy5RIjemeXiRCZXqLuhkGnWn/2IIaUuDcxaJEssf2LRXsRkY+k8         tvfN2g90KFG99Kj8j2JHXkqta0GR6mBNwhIE1MOsW3gKVFDObm/yaYyW5TEXGGnvszwT         oOTA=='},\n",
       " {'name': 'ARC-Message-Signature',\n",
       "  'value': 'i=1; a=rsa-sha256; c=relaxed/relaxed; d=google.com; s=arc-20160816;        h=to:from:subject:message-id:feedback-id:reply-to:date:mime-version         :dkim-signature;        bh=qjcLv0R6oHpAWDu+HCrbonmk24N4ot6btLatyyR91dk=;        b=qN1yijj7y5sNdObkVRNs0zo6MXp34ef4HmytoMyFn+zCHXlqQygboU+D6iVo2d4B/s         GjXbte8O14E7OmdmWixRUY8R2/YFvpo6jdJf7LdiX6m9J8ax35QxTuUDzxiJFtq/9nt8         X/MHh97i5Qh+lzXB4V4r3ZtbDeSFTZnhnT3Xtv+GFqSxEe0NwibU+LkOhqvlw+9bkOpN         C2VqTDz36UyLAN+Z/z87Aw+JR+e1QY/mXyDcS1kqX/JH3OjQh8ZQGlL0PCiQfN91AFdG         KmlUpqzLvegJ9fuMcslZmQfm9dnOqLuCRbfJtMd0b10ZrbJ26w2LHC982CSHtY4gMZ9G         bexA=='},\n",
       " {'name': 'ARC-Authentication-Results',\n",
       "  'value': 'i=1; mx.google.com;       dkim=pass header.i=@google.com header.s=20210112 header.b=ePFFCdfR;       spf=pass (google.com: domain of 3bhioyxskaokrzzrwpnzxxfytejeplx-yzcpawjrzzrwp.nzx@scoutcamp.bounces.google.com designates 209.85.220.69 as permitted sender) smtp.mailfrom=3bhIOYxsKAOkRZZRWPNZXXfYTejePLX-YZcPaWjRZZRWP.NZX@scoutcamp.bounces.google.com;       dmarc=pass (p=REJECT sp=REJECT dis=NONE) header.from=google.com'},\n",
       " {'name': 'Return-Path',\n",
       "  'value': '<3bhIOYxsKAOkRZZRWPNZXXfYTejePLX-YZcPaWjRZZRWP.NZX@scoutcamp.bounces.google.com>'},\n",
       " {'name': 'Received',\n",
       "  'value': 'from mail-sor-f69.google.com (mail-sor-f69.google.com. [209.85.220.69])        by mx.google.com with SMTPS id dv18-20020a05620a1b9200b006be7bc46ba4sor2176349qkb.29.2022.08.30.06.36.46        for <haensel.challenge@gmail.com>        (Google Transport Security);        Tue, 30 Aug 2022 06:36:50 -0700 (PDT)'},\n",
       " {'name': 'Received-SPF',\n",
       "  'value': 'pass (google.com: domain of 3bhioyxskaokrzzrwpnzxxfytejeplx-yzcpawjrzzrwp.nzx@scoutcamp.bounces.google.com designates 209.85.220.69 as permitted sender) client-ip=209.85.220.69;'},\n",
       " {'name': 'Authentication-Results',\n",
       "  'value': 'mx.google.com;       dkim=pass header.i=@google.com header.s=20210112 header.b=ePFFCdfR;       spf=pass (google.com: domain of 3bhioyxskaokrzzrwpnzxxfytejeplx-yzcpawjrzzrwp.nzx@scoutcamp.bounces.google.com designates 209.85.220.69 as permitted sender) smtp.mailfrom=3bhIOYxsKAOkRZZRWPNZXXfYTejePLX-YZcPaWjRZZRWP.NZX@scoutcamp.bounces.google.com;       dmarc=pass (p=REJECT sp=REJECT dis=NONE) header.from=google.com'},\n",
       " {'name': 'DKIM-Signature',\n",
       "  'value': 'v=1; a=rsa-sha256; c=relaxed/relaxed;        d=google.com; s=20210112;        h=to:from:subject:message-id:feedback-id:reply-to:date:mime-version         :from:to:cc;        bh=qjcLv0R6oHpAWDu+HCrbonmk24N4ot6btLatyyR91dk=;        b=ePFFCdfRsn4M6sZnu1hzwe7oE8wFr6rbgVfWiN/YBrt5Asvk7dEQZhB+23/a0VlIh6         734UyJnHrM6RWQBJHhY4hwZg+t/qnTZJ/V8cpYGyhnIgLEgx7UPVVAT2oLGswZ4+CefL         Okj+vBhqU3jeo8OSso6w3P/9M8HfSOyZNVNZYv9klE+1mDIGR4Rm8ZFxAVjHA6x/T5mp         qKKZKVIf0MpXWzqEia1yU0wkxLLIkVX+EoCE7JEYW4xeXuA1hhMl8VjSVKGGQdQubfFg         PA9tA+FzbMHQQZMLk4sFibN2762/UfWh5tINkW2ThntFer7DivRMXlB2S9x1qJQ+yl8l         qU4Q=='},\n",
       " {'name': 'X-Google-DKIM-Signature',\n",
       "  'value': 'v=1; a=rsa-sha256; c=relaxed/relaxed;        d=1e100.net; s=20210112;        h=to:from:subject:message-id:feedback-id:reply-to:date:mime-version         :x-gm-message-state:from:to:cc;        bh=qjcLv0R6oHpAWDu+HCrbonmk24N4ot6btLatyyR91dk=;        b=cj2kWGr4F/iZgpZ3MLSP9l+wjS/LdDLo1EEmt6FQxrgIGalyYLMuhXksGh/qc/PI9i         1LtKho5H1oHLd6/u6aoNM4RJwn7PqLFMsUj+ceZDKpKC4pNLIIH0a2az629RIIiyXVlH         JMmG9Hl9+rTrJrk8a5lkXcwfFgSZTiQAfhgr4d8xPH/jdwTANfPKBdExjP9+n5KXwm/O         G6KCwfPfgfPrma6c0HfMgaPDZVFD6lsmCitsAd0aywKtefydvk9ONBIhF6adKKso8mvX         TdoNBSgjbn1UmeY4JL+YOIv40trCml3+J02XsBl4y3braimQ16kk6Erf56iAC0QzJVg1         1gvA=='},\n",
       " {'name': 'X-Gm-Message-State',\n",
       "  'value': 'ACgBeo1uIEcWNF6ExLQXOypoB7a4+AyrCa9OvvL/C5gyoBcKD4CJ5OsJ VunBXMx75q+DPHkV28mz650p'},\n",
       " {'name': 'X-Google-Smtp-Source',\n",
       "  'value': 'AA6agR7WRcyNXqZyva3iWBXSELlWdCJ5ljlKhx/cJx27Cnz3sGzgp7DX+EzWHImYWs2STWySe5Vfz+E='},\n",
       " {'name': 'MIME-Version', 'value': '1.0'},\n",
       " {'name': 'X-Received',\n",
       "  'value': 'by 2002:a05:620a:458c:b0:6bb:848a:b86b with SMTP id bp12-20020a05620a458c00b006bb848ab86bmr11984349qkb.267.1661866606624; Tue, 30 Aug 2022 06:36:46 -0700 (PDT)'},\n",
       " {'name': 'Date', 'value': 'Tue, 30 Aug 2022 06:36:46 -0700'},\n",
       " {'name': 'Reply-To', 'value': 'businessprofile-noreply@google.com'},\n",
       " {'name': 'X-Google-Id', 'value': '4038064'},\n",
       " {'name': 'Feedback-ID',\n",
       "  'value': 'P-405698695-0:C20166281:M110542734-en:gamma'},\n",
       " {'name': 'X-Notifications', 'value': '409e730a03c80000'},\n",
       " {'name': 'X-Notifications-Bounce-Info',\n",
       "  'value': 'AQnA6E23jO8rM9I48aNc5xfxF91e7qSKUuQvSNdulE4_GlTq4QAoBG1b6mLwdMyw79EDs6xL0A2lFYqp7fTnANo7bjrhmWCCFpNPnn7ZXeLqSHnVNAZkGFljawUUmYvEh4rE2yMezYw22mmJx8y_QZ5JUlZA2k9IImLtZO4fwn4hWu-ofWf9lmGmFu4kMpIUAJl3157Kp4Bp6uB7NjAwNjA0MDQxNTM1NTk2OTMzMg'},\n",
       " {'name': 'Message-ID',\n",
       "  'value': '<e885da88e0f19de054c9d798ca4af8ecd9856980-20166281-111171370@google.com>'},\n",
       " {'name': 'Subject',\n",
       "  'value': 'Your Google Account is live – now help your business grow'},\n",
       " {'name': 'From',\n",
       "  'value': 'Google Community Team <googlecommunityteam-noreply@google.com>'},\n",
       " {'name': 'To', 'value': 'haensel.challenge@gmail.com'},\n",
       " {'name': 'Content-Type',\n",
       "  'value': 'multipart/alternative; boundary=\"000000000000c0804405e77578c0\"'}]"
      ]
     },
     "execution_count": 9,
     "metadata": {},
     "output_type": "execute_result"
    }
   ],
   "source": [
    "message = service.users().messages().get(userId='me', id='182eef80ee4cb393').execute()\n",
    "msg_data=message['payload']['headers']\n",
    "msg_data \n"
   ]
  },
  {
   "cell_type": "code",
   "execution_count": 10,
   "id": "161a3811",
   "metadata": {},
   "outputs": [],
   "source": [
    "def search_message(service, user_id, search_string):\n",
    "    \"\"\"\n",
    "    Search for e-mails that satisfy the search_string\n",
    "    \n",
    "    \n",
    "        user_id: a string ('me' works here if\n",
    "        we already authorized it)\n",
    "        search_string: \n",
    "    Prints: Sender, Subject and a snippet from the e-mails that satisfy the search_string\n",
    "    Returns: Sender, Subject and a snippet from the e-mails that satisfy the search_string\n",
    "    \"\"\"\n",
    "    try:\n",
    "        ids_list = []\n",
    "\n",
    "        # Get the ids of the messages that contain the search_string\n",
    "        search_output = service.users().messages().list(userId=user_id, q=search_string).execute()\n",
    "        # If there are no results e.g. search_output={'resultSizeEstimate': 0}, then print a warning and return empty string\n",
    "        try:\n",
    "            Ids = search_output['messages']\n",
    "\n",
    "        except KeyError:\n",
    "            print(\"WARNING: 0 results\")\n",
    "            print(\"it returns an empty string\")\n",
    "            return \"\"\n",
    "        \n",
    "        \n",
    "        for msg_id in Ids:\n",
    "                ids_list.append(msg_id['id'])\n",
    "        \n",
    "        # Print the ids of the messages that contain the search_string\n",
    "        print(ids_list)  \n",
    "    except (errors.HttpError, error):\n",
    "        print(\"An error occured: %s\") % error\n",
    "\n",
    "    # Find the sender, subject and a snippet of the messages satisfying the search string \n",
    "    try:\n",
    "        for msg_id in ids_list:\n",
    "            message = service.users().messages().get(userId=user_id, id=msg_id).execute()\n",
    "           \n",
    "            msg_data=message['payload']['headers']\n",
    "            \n",
    "            for val in msg_data:\n",
    "                name=val[\"name\"]\n",
    "                if name=='From':\n",
    "                    from_email=val['value']\n",
    "                    print('From: '+ from_email)\n",
    "                if name=='Subject':\n",
    "                    subject_email=val['value']\n",
    "                    print('Subject: '+ subject_email)\n",
    "            print(message['snippet'])\n",
    "            print('\\n')\n",
    "            \n",
    "        return(from_email, subject_email, message['snippet'])\n",
    "    except HttpError as error:\n",
    "        print(f'An error occurred: {error}')\n",
    "        return None\n"
   ]
  },
  {
   "cell_type": "markdown",
   "id": "ca8e2a4d",
   "metadata": {},
   "source": [
    "### 3.1 Example\n",
    "\n",
    "You could also change the search_string below to obtain new outcomes. "
   ]
  },
  {
   "cell_type": "code",
   "execution_count": 11,
   "id": "7eb3b54d",
   "metadata": {},
   "outputs": [
    {
     "name": "stdout",
     "output_type": "stream",
     "text": [
      "['182f8708b31304d3', '182f85bcc49dcbc2', '182eef80ee4cb393']\n",
      "From: Alejandra Rincon Hidalgo <alrinconh@gmail.com>\n",
      "Subject: Another message to search\n",
      "Seconde message\n",
      "\n",
      "\n",
      "From: Alejandra Rincon Hidalgo <alrinconh@gmail.com>\n",
      "Subject: Message to be search\n",
      "This is the message that I am using to search for it. We add additional words to look for it: API Google Python Data Scientist\n",
      "\n",
      "\n",
      "Subject: Your Google Account is live – now help your business grow\n",
      "From: Google Community Team <googlecommunityteam-noreply@google.com>\n",
      "Start using Google&#39;s tools for your business. ‍ ‍ ‍ ‍ ‍ ‍ ‍ ‍ ‍ ‍ ‍ ‍ ‍ ‍ ‍ ‍ ‍ ‍ ‍ ‍ ‍ ‍ ‍ ‍ ‍ ‍ ‍ ‍ ‍ ‍ ‍ ‍ ‍ ‍ ‍ ‍ ‍ ‍ ‍ ‍ ‍ ‍ ‍ ‍ ‍ ‍ ‍ ‍ ‍ ‍ ‍ ‍ ‍ ‍ ‍ ‍ ‍ ‍ ‍ ‍ ‍ ‍ ‍ ‍ ‍ ‍ ‍ ‍ ‍ ‍ ‍ ‍ ‍ ‍ ‍ ‍\n",
      "\n",
      "\n"
     ]
    }
   ],
   "source": [
    "service=authentication()\n",
    "    \n",
    "user_id='me'\n",
    "search_string='search'\n",
    "msgs_searched=search_message(service, user_id, search_string)\n",
    "    \n"
   ]
  },
  {
   "cell_type": "code",
   "execution_count": null,
   "id": "8df670ea",
   "metadata": {},
   "outputs": [],
   "source": []
  }
 ],
 "metadata": {
  "kernelspec": {
   "display_name": "Python 3 (ipykernel)",
   "language": "python",
   "name": "python3"
  },
  "language_info": {
   "codemirror_mode": {
    "name": "ipython",
    "version": 3
   },
   "file_extension": ".py",
   "mimetype": "text/x-python",
   "name": "python",
   "nbconvert_exporter": "python",
   "pygments_lexer": "ipython3",
   "version": "3.10.6"
  }
 },
 "nbformat": 4,
 "nbformat_minor": 5
}
